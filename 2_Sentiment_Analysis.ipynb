{
 "cells": [
  {
   "cell_type": "code",
   "execution_count": 246,
   "metadata": {},
   "outputs": [],
   "source": [
    "import pandas as pd\n",
    "import numpy as np\n",
    "import re\n",
    "from textblob import TextBlob\n",
    "from nltk.sentiment.vader import SentimentIntensityAnalyzer"
   ]
  },
  {
   "cell_type": "code",
   "execution_count": 265,
   "metadata": {},
   "outputs": [],
   "source": [
    "# import data\n",
    "pp_data = pd.read_csv('pp_data.csv')\n",
    "pp_mean = pd.read_csv('pp_mean.csv')\n",
    "tweet_data = pd.read_csv('tweets.csv')\n",
    "news_data = pd.read_csv('google_news_headlines.csv')\n",
    "\n",
    "# make date a datetime for merging\n",
    "pp_mean['date'] = pd.to_datetime(pp_mean['date'])"
   ]
  },
  {
   "cell_type": "code",
   "execution_count": 266,
   "metadata": {},
   "outputs": [],
   "source": [
    "# Punctuation characters except for exclamation point\n",
    "punct_chars = '\"#$%&\\'()*+,-./:;<=>?@[\\\\]^_`{|}~'\n",
    "\n",
    "def remove_punct(text):\n",
    "    text  = \"\".join([char for char in text if char not in punct_chars])\n",
    "    text = re.sub('[0-9]+', '', text)\n",
    "    return text\n",
    "\n",
    "tweet_data['tweet'] = tweet_data['tweet'].apply(lambda x: remove_punct(x))\n",
    "news_data['headline'] = news_data['headline'].apply(lambda x: remove_punct(x))"
   ]
  },
  {
   "cell_type": "code",
   "execution_count": 267,
   "metadata": {},
   "outputs": [],
   "source": [
    "# Replace newlines and hashes from tweets and newlines from headlines\n",
    "\n",
    "tweet_data['tweet'] = tweet_data['tweet'].str.replace(r\"\\n\", \"\")\n",
    "#tweet_data['tweet'] = tweet_data['tweet'].str.replace(\"#\", \"\")\n",
    "\n",
    "news_data['headline'] = news_data['headline'].str[0].str.replace(r\"\\n\", \"\")"
   ]
  },
  {
   "cell_type": "markdown",
   "metadata": {},
   "source": [
    "Tweets"
   ]
  },
  {
   "cell_type": "code",
   "execution_count": 268,
   "metadata": {},
   "outputs": [
    {
     "data": {
      "text/html": [
       "<div>\n",
       "<style scoped>\n",
       "    .dataframe tbody tr th:only-of-type {\n",
       "        vertical-align: middle;\n",
       "    }\n",
       "\n",
       "    .dataframe tbody tr th {\n",
       "        vertical-align: top;\n",
       "    }\n",
       "\n",
       "    .dataframe thead th {\n",
       "        text-align: right;\n",
       "    }\n",
       "</style>\n",
       "<table border=\"1\" class=\"dataframe\">\n",
       "  <thead>\n",
       "    <tr style=\"text-align: right;\">\n",
       "      <th></th>\n",
       "      <th>id</th>\n",
       "      <th>date</th>\n",
       "      <th>tweet</th>\n",
       "    </tr>\n",
       "  </thead>\n",
       "  <tbody>\n",
       "    <tr>\n",
       "      <th>0</th>\n",
       "      <td>1377047151558070277</td>\n",
       "      <td>2021-03-30 23:56:39+00:00</td>\n",
       "      <td>How do you think Scott Morrison is going auspo...</td>\n",
       "    </tr>\n",
       "    <tr>\n",
       "      <th>1</th>\n",
       "      <td>1377046083403059204</td>\n",
       "      <td>2021-03-30 23:52:25+00:00</td>\n",
       "      <td>It seems he made the same announcement in June...</td>\n",
       "    </tr>\n",
       "    <tr>\n",
       "      <th>2</th>\n",
       "      <td>1377045549220696066</td>\n",
       "      <td>2021-03-30 23:50:17+00:00</td>\n",
       "      <td>AFR TLDR “How dare these women journalists get...</td>\n",
       "    </tr>\n",
       "    <tr>\n",
       "      <th>3</th>\n",
       "      <td>1377045473970679808</td>\n",
       "      <td>2021-03-30 23:49:59+00:00</td>\n",
       "      <td>I’ve pondered lately and Australians were know...</td>\n",
       "    </tr>\n",
       "    <tr>\n",
       "      <th>4</th>\n",
       "      <td>1377044770728538112</td>\n",
       "      <td>2021-03-30 23:47:12+00:00</td>\n",
       "      <td>Im a healthcare worker and I have just had my ...</td>\n",
       "    </tr>\n",
       "  </tbody>\n",
       "</table>\n",
       "</div>"
      ],
      "text/plain": [
       "                    id                       date  \\\n",
       "0  1377047151558070277  2021-03-30 23:56:39+00:00   \n",
       "1  1377046083403059204  2021-03-30 23:52:25+00:00   \n",
       "2  1377045549220696066  2021-03-30 23:50:17+00:00   \n",
       "3  1377045473970679808  2021-03-30 23:49:59+00:00   \n",
       "4  1377044770728538112  2021-03-30 23:47:12+00:00   \n",
       "\n",
       "                                               tweet  \n",
       "0  How do you think Scott Morrison is going auspo...  \n",
       "1  It seems he made the same announcement in June...  \n",
       "2  AFR TLDR “How dare these women journalists get...  \n",
       "3  I’ve pondered lately and Australians were know...  \n",
       "4  Im a healthcare worker and I have just had my ...  "
      ]
     },
     "execution_count": 268,
     "metadata": {},
     "output_type": "execute_result"
    }
   ],
   "source": [
    "tweet_data.head()"
   ]
  },
  {
   "cell_type": "code",
   "execution_count": 269,
   "metadata": {},
   "outputs": [
    {
     "data": {
      "text/plain": [
       "'LetUsBackToAus JulianHillMP ScottMorrisonMP AlanTudgeMP Plz allow us back  aus plz 🇦🇺 when wil u allow us backsafe to do so whenwhen wil ur safe comeafter every  days u will do lockdownwhen it wil finishgives us date nd timeits an humble request 🙏😓'"
      ]
     },
     "execution_count": 269,
     "metadata": {},
     "output_type": "execute_result"
    }
   ],
   "source": [
    "tweets_list = tweet_data['tweet'].tolist()\n",
    "# Example tweet\n",
    "tweets_list[150]"
   ]
  },
  {
   "cell_type": "code",
   "execution_count": 270,
   "metadata": {},
   "outputs": [],
   "source": [
    "# https://www.nltk.org/api/nltk.sentiment.html - there is a publication about vader\n",
    "# compound is normalised between -1 and 1 with -1 being very negative\n",
    "neg_tweets = []\n",
    "comp_tweets = []\n",
    "\n",
    "for i in range(len(tweets_list)):\n",
    "    #analysis = TextBlob(tweet.text)\n",
    "    sent = SentimentIntensityAnalyzer().polarity_scores(tweets_list[i])\n",
    "    neg_tweets.append(sent['neg'])\n",
    "    comp_tweets.append(sent['compound']) \n",
    "    \n",
    "# Add negative and comp scores to tweets df\n",
    "tweets = pd.DataFrame({'date': tweet_data['date'], 'tweet': tweet_data['tweet'], 'neg': neg_tweets,\n",
    "                    'comp': comp_tweets})"
   ]
  },
  {
   "cell_type": "code",
   "execution_count": 99,
   "metadata": {},
   "outputs": [],
   "source": [
    "# get month and year from date to group by\n",
    "tweets['year'] = pd.DatetimeIndex(tweets['date']).year \n",
    "tweets['month'] = pd.DatetimeIndex(tweets['date']).month\n",
    "\n",
    "tweets['month_year'] = tweets['month'].astype(str) + '-' + tweets['year'].astype(str)"
   ]
  },
  {
   "cell_type": "code",
   "execution_count": 129,
   "metadata": {},
   "outputs": [],
   "source": [
    "# want mean sentiment and proportion of negative for each month\n",
    "tweet_summary = tweets.groupby('month_year').agg(\n",
    "    tweets_mean_comp = ('comp', 'mean'),\n",
    "    tweets_prop_neg = ('neg', lambda x: (x != 0).sum() / x.count()),\n",
    "    tweets_num_total = ('neg', 'count'),\n",
    "    tweets_num_neg = ('neg', lambda x: (x != 0).sum())\n",
    ")"
   ]
  },
  {
   "cell_type": "code",
   "execution_count": 146,
   "metadata": {},
   "outputs": [],
   "source": [
    "tweet_summary.reset_index(level=0, inplace=True)\n",
    "tweet_summary['date'] = pd.to_datetime(tweet_summary['month_year'])\n",
    "del tweet_summary['month_year']"
   ]
  },
  {
   "cell_type": "code",
   "execution_count": 147,
   "metadata": {},
   "outputs": [],
   "source": [
    "tweet_summary.to_csv('tweet_sentiment_by_month.csv', index=False)"
   ]
  },
  {
   "cell_type": "markdown",
   "metadata": {},
   "source": [
    "News Headlines"
   ]
  },
  {
   "cell_type": "code",
   "execution_count": 179,
   "metadata": {},
   "outputs": [
    {
     "data": {
      "text/html": [
       "<div>\n",
       "<style scoped>\n",
       "    .dataframe tbody tr th:only-of-type {\n",
       "        vertical-align: middle;\n",
       "    }\n",
       "\n",
       "    .dataframe tbody tr th {\n",
       "        vertical-align: top;\n",
       "    }\n",
       "\n",
       "    .dataframe thead th {\n",
       "        text-align: right;\n",
       "    }\n",
       "</style>\n",
       "<table border=\"1\" class=\"dataframe\">\n",
       "  <thead>\n",
       "    <tr style=\"text-align: right;\">\n",
       "      <th></th>\n",
       "      <th>date</th>\n",
       "      <th>headline</th>\n",
       "    </tr>\n",
       "  </thead>\n",
       "  <tbody>\n",
       "    <tr>\n",
       "      <th>0</th>\n",
       "      <td>2019-05-18</td>\n",
       "      <td>Election 2019: Scott Morrison says 'I have alw...</td>\n",
       "    </tr>\n",
       "    <tr>\n",
       "      <th>1</th>\n",
       "      <td>2020-01-02</td>\n",
       "      <td>PM Scott Morrison defends climate policies and...</td>\n",
       "    </tr>\n",
       "    <tr>\n",
       "      <th>2</th>\n",
       "      <td>2020-01-02</td>\n",
       "      <td>Australian PM Scott Morrison angers residents</td>\n",
       "    </tr>\n",
       "    <tr>\n",
       "      <th>3</th>\n",
       "      <td>2020-01-02</td>\n",
       "      <td>Prime Minister Scott Morrison confronted by an...</td>\n",
       "    </tr>\n",
       "    <tr>\n",
       "      <th>4</th>\n",
       "      <td>2020-07-30</td>\n",
       "      <td>Prime Minister Scott Morrison 'very concerned'...</td>\n",
       "    </tr>\n",
       "  </tbody>\n",
       "</table>\n",
       "</div>"
      ],
      "text/plain": [
       "         date                                           headline\n",
       "0  2019-05-18  Election 2019: Scott Morrison says 'I have alw...\n",
       "1  2020-01-02  PM Scott Morrison defends climate policies and...\n",
       "2  2020-01-02      Australian PM Scott Morrison angers residents\n",
       "3  2020-01-02  Prime Minister Scott Morrison confronted by an...\n",
       "4  2020-07-30  Prime Minister Scott Morrison 'very concerned'..."
      ]
     },
     "execution_count": 179,
     "metadata": {},
     "output_type": "execute_result"
    }
   ],
   "source": [
    "news_data.head()"
   ]
  },
  {
   "cell_type": "code",
   "execution_count": 180,
   "metadata": {},
   "outputs": [
    {
     "data": {
      "text/plain": [
       "'Scott Morrison rejects calls for independent inquiry into rape allegation against Christian Porter'"
      ]
     },
     "execution_count": 180,
     "metadata": {},
     "output_type": "execute_result"
    }
   ],
   "source": [
    "# make headlines a list\n",
    "news_list = news_data['headline'].tolist()\n",
    "\n",
    "# Example headline\n",
    "news_list[150]"
   ]
  },
  {
   "cell_type": "code",
   "execution_count": 183,
   "metadata": {},
   "outputs": [],
   "source": [
    "neg_headlines = []\n",
    "comp_headlines = []\n",
    "\n",
    "for i in range(len(news_list)):\n",
    "    sent = SentimentIntensityAnalyzer().polarity_scores(news_list[i])\n",
    "    neg_headlines.append(sent['neg'])\n",
    "    comp_headlines.append(sent['compound']) \n",
    "    \n",
    "# Add negative and comp scores to tweets df\n",
    "news = pd.DataFrame({'date': news_data['date'], 'headline': news_data['headline'], 'neg': neg_headlines,\n",
    "                    'comp': comp_headlines})"
   ]
  },
  {
   "cell_type": "code",
   "execution_count": 184,
   "metadata": {},
   "outputs": [
    {
     "data": {
      "text/html": [
       "<div>\n",
       "<style scoped>\n",
       "    .dataframe tbody tr th:only-of-type {\n",
       "        vertical-align: middle;\n",
       "    }\n",
       "\n",
       "    .dataframe tbody tr th {\n",
       "        vertical-align: top;\n",
       "    }\n",
       "\n",
       "    .dataframe thead th {\n",
       "        text-align: right;\n",
       "    }\n",
       "</style>\n",
       "<table border=\"1\" class=\"dataframe\">\n",
       "  <thead>\n",
       "    <tr style=\"text-align: right;\">\n",
       "      <th></th>\n",
       "      <th>date</th>\n",
       "      <th>headline</th>\n",
       "      <th>neg</th>\n",
       "      <th>comp</th>\n",
       "    </tr>\n",
       "  </thead>\n",
       "  <tbody>\n",
       "    <tr>\n",
       "      <th>0</th>\n",
       "      <td>2019-05-18</td>\n",
       "      <td>Election 2019: Scott Morrison says 'I have alw...</td>\n",
       "      <td>0.000</td>\n",
       "      <td>0.0000</td>\n",
       "    </tr>\n",
       "    <tr>\n",
       "      <th>1</th>\n",
       "      <td>2020-01-02</td>\n",
       "      <td>PM Scott Morrison defends climate policies and...</td>\n",
       "      <td>0.000</td>\n",
       "      <td>0.0000</td>\n",
       "    </tr>\n",
       "    <tr>\n",
       "      <th>2</th>\n",
       "      <td>2020-01-02</td>\n",
       "      <td>Australian PM Scott Morrison angers residents</td>\n",
       "      <td>0.398</td>\n",
       "      <td>-0.5106</td>\n",
       "    </tr>\n",
       "    <tr>\n",
       "      <th>3</th>\n",
       "      <td>2020-01-02</td>\n",
       "      <td>Prime Minister Scott Morrison confronted by an...</td>\n",
       "      <td>0.317</td>\n",
       "      <td>-0.6249</td>\n",
       "    </tr>\n",
       "    <tr>\n",
       "      <th>4</th>\n",
       "      <td>2020-07-30</td>\n",
       "      <td>Prime Minister Scott Morrison 'very concerned'...</td>\n",
       "      <td>0.000</td>\n",
       "      <td>0.0000</td>\n",
       "    </tr>\n",
       "  </tbody>\n",
       "</table>\n",
       "</div>"
      ],
      "text/plain": [
       "         date                                           headline    neg  \\\n",
       "0  2019-05-18  Election 2019: Scott Morrison says 'I have alw...  0.000   \n",
       "1  2020-01-02  PM Scott Morrison defends climate policies and...  0.000   \n",
       "2  2020-01-02      Australian PM Scott Morrison angers residents  0.398   \n",
       "3  2020-01-02  Prime Minister Scott Morrison confronted by an...  0.317   \n",
       "4  2020-07-30  Prime Minister Scott Morrison 'very concerned'...  0.000   \n",
       "\n",
       "     comp  \n",
       "0  0.0000  \n",
       "1  0.0000  \n",
       "2 -0.5106  \n",
       "3 -0.6249  \n",
       "4  0.0000  "
      ]
     },
     "execution_count": 184,
     "metadata": {},
     "output_type": "execute_result"
    }
   ],
   "source": [
    "news.head()"
   ]
  },
  {
   "cell_type": "code",
   "execution_count": 186,
   "metadata": {},
   "outputs": [],
   "source": [
    "# get month and year from date to group by\n",
    "news['year'] = pd.DatetimeIndex(news['date']).year\n",
    "news['month'] = pd.DatetimeIndex(news['date']).month\n",
    "\n",
    "news['month_year'] = news['month'].astype(str) + '-' + news['year'].astype(str)"
   ]
  },
  {
   "cell_type": "code",
   "execution_count": 187,
   "metadata": {},
   "outputs": [],
   "source": [
    "# want mean sentiment and proportion of negative for each month\n",
    "news_summary = news.groupby('month_year').agg(\n",
    "    headlines_mean_comp = ('comp', 'mean'),\n",
    "    headlines_prop_neg = ('neg', lambda x: (x != 0).sum() / x.count()),\n",
    "    headlines_num_total = ('neg', 'count'),\n",
    "    headlines_num_neg = ('neg', lambda x: (x != 0).sum())\n",
    ")"
   ]
  },
  {
   "cell_type": "code",
   "execution_count": 189,
   "metadata": {},
   "outputs": [],
   "source": [
    "news_summary.reset_index(level=0, inplace=True)\n",
    "news_summary['date'] = pd.to_datetime(news_summary['month_year'])\n",
    "del news_summary['month_year']"
   ]
  },
  {
   "cell_type": "markdown",
   "metadata": {},
   "source": [
    "Now join tweets and headlines to polling data for modelling"
   ]
  },
  {
   "cell_type": "code",
   "execution_count": 196,
   "metadata": {},
   "outputs": [],
   "source": [
    "data = pp_mean.merge(tweet_summary, on='date', how='left')\n",
    "data = data.merge(news_summary, on='date', how='left')"
   ]
  },
  {
   "cell_type": "code",
   "execution_count": 197,
   "metadata": {},
   "outputs": [
    {
     "name": "stdout",
     "output_type": "stream",
     "text": [
      "22\n",
      "22\n"
     ]
    }
   ],
   "source": [
    "print(len(pp_mean))\n",
    "print(len(data))"
   ]
  },
  {
   "cell_type": "code",
   "execution_count": 198,
   "metadata": {},
   "outputs": [
    {
     "data": {
      "text/html": [
       "<div>\n",
       "<style scoped>\n",
       "    .dataframe tbody tr th:only-of-type {\n",
       "        vertical-align: middle;\n",
       "    }\n",
       "\n",
       "    .dataframe tbody tr th {\n",
       "        vertical-align: top;\n",
       "    }\n",
       "\n",
       "    .dataframe thead th {\n",
       "        text-align: right;\n",
       "    }\n",
       "</style>\n",
       "<table border=\"1\" class=\"dataframe\">\n",
       "  <thead>\n",
       "    <tr style=\"text-align: right;\">\n",
       "      <th></th>\n",
       "      <th>date</th>\n",
       "      <th>size</th>\n",
       "      <th>mor_sat</th>\n",
       "      <th>mor_dis</th>\n",
       "      <th>tweets_mean_comp</th>\n",
       "      <th>tweets_prop_neg</th>\n",
       "      <th>tweets_num_total</th>\n",
       "      <th>tweets_num_neg</th>\n",
       "      <th>headlines_mean_comp</th>\n",
       "      <th>headlines_prop_neg</th>\n",
       "      <th>headlines_num_total</th>\n",
       "      <th>headlines_num_neg</th>\n",
       "    </tr>\n",
       "  </thead>\n",
       "  <tbody>\n",
       "    <tr>\n",
       "      <th>0</th>\n",
       "      <td>2019-06-01</td>\n",
       "      <td>NaN</td>\n",
       "      <td>48.000000</td>\n",
       "      <td>36.000000</td>\n",
       "      <td>0.169210</td>\n",
       "      <td>0.515057</td>\n",
       "      <td>4815</td>\n",
       "      <td>2480.0</td>\n",
       "      <td>0.000000</td>\n",
       "      <td>0.000000</td>\n",
       "      <td>1</td>\n",
       "      <td>0.0</td>\n",
       "    </tr>\n",
       "    <tr>\n",
       "      <th>1</th>\n",
       "      <td>2019-07-01</td>\n",
       "      <td>NaN</td>\n",
       "      <td>49.500000</td>\n",
       "      <td>35.000000</td>\n",
       "      <td>0.328865</td>\n",
       "      <td>0.638125</td>\n",
       "      <td>7019</td>\n",
       "      <td>4479.0</td>\n",
       "      <td>0.010300</td>\n",
       "      <td>1.000000</td>\n",
       "      <td>2</td>\n",
       "      <td>2.0</td>\n",
       "    </tr>\n",
       "    <tr>\n",
       "      <th>2</th>\n",
       "      <td>2019-08-01</td>\n",
       "      <td>NaN</td>\n",
       "      <td>48.000000</td>\n",
       "      <td>39.500000</td>\n",
       "      <td>0.314253</td>\n",
       "      <td>0.659883</td>\n",
       "      <td>7862</td>\n",
       "      <td>5188.0</td>\n",
       "      <td>-0.338900</td>\n",
       "      <td>1.000000</td>\n",
       "      <td>2</td>\n",
       "      <td>2.0</td>\n",
       "    </tr>\n",
       "    <tr>\n",
       "      <th>3</th>\n",
       "      <td>2019-09-01</td>\n",
       "      <td>NaN</td>\n",
       "      <td>48.333333</td>\n",
       "      <td>39.333333</td>\n",
       "      <td>0.146324</td>\n",
       "      <td>0.568913</td>\n",
       "      <td>8801</td>\n",
       "      <td>5007.0</td>\n",
       "      <td>-0.171733</td>\n",
       "      <td>0.666667</td>\n",
       "      <td>3</td>\n",
       "      <td>2.0</td>\n",
       "    </tr>\n",
       "    <tr>\n",
       "      <th>4</th>\n",
       "      <td>2019-10-01</td>\n",
       "      <td>NaN</td>\n",
       "      <td>47.000000</td>\n",
       "      <td>41.500000</td>\n",
       "      <td>0.056276</td>\n",
       "      <td>0.482146</td>\n",
       "      <td>5629</td>\n",
       "      <td>2714.0</td>\n",
       "      <td>-0.053050</td>\n",
       "      <td>0.500000</td>\n",
       "      <td>2</td>\n",
       "      <td>1.0</td>\n",
       "    </tr>\n",
       "  </tbody>\n",
       "</table>\n",
       "</div>"
      ],
      "text/plain": [
       "        date  size    mor_sat    mor_dis  tweets_mean_comp  tweets_prop_neg  \\\n",
       "0 2019-06-01   NaN  48.000000  36.000000          0.169210         0.515057   \n",
       "1 2019-07-01   NaN  49.500000  35.000000          0.328865         0.638125   \n",
       "2 2019-08-01   NaN  48.000000  39.500000          0.314253         0.659883   \n",
       "3 2019-09-01   NaN  48.333333  39.333333          0.146324         0.568913   \n",
       "4 2019-10-01   NaN  47.000000  41.500000          0.056276         0.482146   \n",
       "\n",
       "   tweets_num_total  tweets_num_neg  headlines_mean_comp  headlines_prop_neg  \\\n",
       "0              4815          2480.0             0.000000            0.000000   \n",
       "1              7019          4479.0             0.010300            1.000000   \n",
       "2              7862          5188.0            -0.338900            1.000000   \n",
       "3              8801          5007.0            -0.171733            0.666667   \n",
       "4              5629          2714.0            -0.053050            0.500000   \n",
       "\n",
       "   headlines_num_total  headlines_num_neg  \n",
       "0                    1                0.0  \n",
       "1                    2                2.0  \n",
       "2                    2                2.0  \n",
       "3                    3                2.0  \n",
       "4                    2                1.0  "
      ]
     },
     "execution_count": 198,
     "metadata": {},
     "output_type": "execute_result"
    }
   ],
   "source": [
    "data.to_csv('modelling_dataset.csv', index=False)\n",
    "data.head()"
   ]
  },
  {
   "cell_type": "code",
   "execution_count": null,
   "metadata": {},
   "outputs": [],
   "source": []
  }
 ],
 "metadata": {
  "kernelspec": {
   "display_name": "Python 3",
   "language": "python",
   "name": "python3"
  },
  "language_info": {
   "codemirror_mode": {
    "name": "ipython",
    "version": 3
   },
   "file_extension": ".py",
   "mimetype": "text/x-python",
   "name": "python",
   "nbconvert_exporter": "python",
   "pygments_lexer": "ipython3",
   "version": "3.8.5"
  }
 },
 "nbformat": 4,
 "nbformat_minor": 4
}
